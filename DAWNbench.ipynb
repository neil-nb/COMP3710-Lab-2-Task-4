{
  "cells": [
    {
      "cell_type": "markdown",
      "metadata": {
        "id": "BnZGpiuOuOfB"
      },
      "source": [
        "# DAWNBench ResNet with PyTorch\n",
        "A DAWN Bench solution for CIFAR10 using ResNet18. We use the PyTorch library and vision tools to train a classifier for CIFAR10 in around 6 mins with an accuracy of 94% on the test set."
      ]
    },
    {
      "cell_type": "code",
      "execution_count": 1,
      "metadata": {
        "id": "-m5TnLBHuJkz"
      },
      "outputs": [],
      "source": [
        "import torch\n",
        "import torch.nn as nn\n",
        "import torch.nn.functional as F\n",
        "import torchvision\n",
        "import torchvision.transforms as transforms\n",
        "import time"
      ]
    },
    {
      "cell_type": "markdown",
      "metadata": {
        "id": "6FDR7mNTuzsM"
      },
      "source": [
        "We ensure we are using the GPU and setup parameters"
      ]
    },
    {
      "cell_type": "code",
      "execution_count": 2,
      "metadata": {
        "id": "0JvlLEYUurJv"
      },
      "outputs": [],
      "source": [
        "# Device configuration\n",
        "device = torch.device('cuda' if torch.cuda.is_available() else 'cpu')\n",
        "if not torch.cuda.is_available():\n",
        "    print(\"Warning CUDA not Found. Using CPU\")\n",
        "\n",
        "# Hyper-parameters\n",
        "num_epochs = 35\n",
        "learning_rate = 0.1"
      ]
    },
    {
      "cell_type": "markdown",
      "metadata": {
        "id": "41yPoO9IvApW"
      },
      "source": [
        "Setup all the data regularisation through weak augmentation of images. Without this, the models will always overfit and give low (~80%) accuracy on the test set. Note the different regularisations pipelines for the training and test sets, though the initial pre-processing is the same."
      ]
    },
    {
      "cell_type": "code",
      "execution_count": 3,
      "metadata": {
        "id": "x58T7Bzgu6KO"
      },
      "outputs": [],
      "source": [
        "transform_train = transforms.Compose([\n",
        "    transforms.ToTensor(),\n",
        "    transforms.Normalize((0.4914, 0.4822, 0.4465), (0.2023, 0.1994, 0.2010)),\n",
        "    transforms.RandomHorizontalFlip(),\n",
        "    transforms.RandomCrop(32, padding=4, padding_mode='reflect'),\n",
        "])\n",
        "\n",
        "transform_test = transforms.Compose([\n",
        "    transforms.ToTensor(),\n",
        "    transforms.Normalize((0.4914, 0.4822, 0.4465), (0.2023, 0.1994, 0.2010)),\n",
        "])"
      ]
    },
    {
      "cell_type": "markdown",
      "metadata": {
        "id": "cNA0gcmrvhAz"
      },
      "source": [
        "Load the standard dataset using PyTorch data pipelines."
      ]
    },
    {
      "cell_type": "code",
      "execution_count": 4,
      "metadata": {
        "colab": {
          "base_uri": "https://localhost:8080/"
        },
        "id": "Wxtn4yL2vdvm",
        "outputId": "15ee578b-505b-4f0a-8706-6dac0eaa5200"
      },
      "outputs": [
        {
          "name": "stdout",
          "output_type": "stream",
          "text": [
            "Files already downloaded and verified\n",
            "Files already downloaded and verified\n"
          ]
        }
      ],
      "source": [
        "trainset = torchvision.datasets.CIFAR10(\n",
        "    root='cifar10', train=True, download=True, transform=transform_train)\n",
        "train_loader = torch.utils.data.DataLoader(trainset, batch_size=128, shuffle=True) #num_workers=6\n",
        "\n",
        "testset = torchvision.datasets.CIFAR10(\n",
        "    root='cifar10', train=False, download=True, transform=transform_test)\n",
        "test_loader = torch.utils.data.DataLoader(testset, batch_size=100, shuffle=False) #num_workers=6"
      ]
    },
    {
      "cell_type": "markdown",
      "metadata": {
        "id": "EljeQd4Vvwe_"
      },
      "source": [
        "Now setup the ResNet model from scratch. You could use the pre-built model from within PyTorch, but this is more instructive from our own version. Original version of the code can be found [here](https://github.com/kuangliu/pytorch-cifar). Start with the basic ResNet block."
      ]
    },
    {
      "cell_type": "code",
      "execution_count": 5,
      "metadata": {
        "id": "BvVVuoW7vp01"
      },
      "outputs": [],
      "source": [
        "class BasicBlock(nn.Module):\n",
        "    expansion = 1\n",
        "\n",
        "    def __init__(self, in_planes, planes, stride=1):\n",
        "        super(BasicBlock, self).__init__()\n",
        "        self.conv1 = nn.Conv2d(\n",
        "            in_planes, planes, kernel_size=3, stride=stride, padding=1, bias=False)\n",
        "        self.bn1 = nn.BatchNorm2d(planes)\n",
        "        self.conv2 = nn.Conv2d(planes, planes, kernel_size=3,\n",
        "                               stride=1, padding=1, bias=False)\n",
        "        self.bn2 = nn.BatchNorm2d(planes)\n",
        "\n",
        "        self.shortcut = nn.Sequential()\n",
        "        if stride != 1 or in_planes != self.expansion*planes:\n",
        "            self.shortcut = nn.Sequential(\n",
        "                nn.Conv2d(in_planes, self.expansion*planes,\n",
        "                          kernel_size=1, stride=stride, bias=False),\n",
        "                nn.BatchNorm2d(self.expansion*planes)\n",
        "            )\n",
        "\n",
        "    def forward(self, x):\n",
        "        out = F.relu(self.bn1(self.conv1(x)))\n",
        "        out = self.bn2(self.conv2(out))\n",
        "        out += self.shortcut(x)\n",
        "        out = F.relu(out)\n",
        "        return out"
      ]
    },
    {
      "cell_type": "markdown",
      "metadata": {
        "id": "qzcPdCH8wRKg"
      },
      "source": [
        "Then construct the general ResNet network that is capable of having its various parameters/depth defined to create different versions. Then define the actual ResNet18 that is needed for CIFAR10."
      ]
    },
    {
      "cell_type": "code",
      "execution_count": 6,
      "metadata": {
        "id": "UwU0VJqhwb8l"
      },
      "outputs": [],
      "source": [
        "class ResNet(nn.Module):\n",
        "    def __init__(self, block, num_blocks, num_classes=10):\n",
        "        super(ResNet, self).__init__()\n",
        "        self.in_planes = 64\n",
        "\n",
        "        self.conv1 = nn.Conv2d(3, 64, kernel_size=3,\n",
        "                               stride=1, padding=1, bias=False)\n",
        "        self.bn1 = nn.BatchNorm2d(64)\n",
        "        self.layer1 = self._make_layer(block, 64, num_blocks[0], stride=1)\n",
        "        self.layer2 = self._make_layer(block, 128, num_blocks[1], stride=2)\n",
        "        self.layer3 = self._make_layer(block, 256, num_blocks[2], stride=2)\n",
        "        self.layer4 = self._make_layer(block, 512, num_blocks[3], stride=2)\n",
        "        self.linear = nn.Linear(512*block.expansion, num_classes)\n",
        "\n",
        "    def _make_layer(self, block, planes, num_blocks, stride):\n",
        "        strides = [stride] + [1]*(num_blocks-1)\n",
        "        layers = []\n",
        "        for stride in strides:\n",
        "            layers.append(block(self.in_planes, planes, stride))\n",
        "            self.in_planes = planes * block.expansion\n",
        "        return nn.Sequential(*layers)\n",
        "\n",
        "    def forward(self, x):\n",
        "        out = F.relu(self.bn1(self.conv1(x)))\n",
        "        out = self.layer1(out)\n",
        "        out = self.layer2(out)\n",
        "        out = self.layer3(out)\n",
        "        out = self.layer4(out)\n",
        "        out = F.avg_pool2d(out, 4)\n",
        "        out = out.view(out.size(0), -1)\n",
        "        out = self.linear(out)\n",
        "        return out\n",
        "\n",
        "\n",
        "def ResNet18():\n",
        "    return ResNet(BasicBlock, [2, 2, 2, 2])"
      ]
    },
    {
      "cell_type": "markdown",
      "metadata": {
        "id": "MmHURjEVwvWX"
      },
      "source": [
        "Declare the actual model for use and move it to the GPU. We print the model info to check."
      ]
    },
    {
      "cell_type": "code",
      "execution_count": 7,
      "metadata": {
        "colab": {
          "base_uri": "https://localhost:8080/"
        },
        "id": "UcvwU_Wuwqji",
        "outputId": "79d11e2e-2abc-40fa-d694-6f8fca3dc0e1"
      },
      "outputs": [
        {
          "name": "stdout",
          "output_type": "stream",
          "text": [
            "NVIDIA GeForce RTX 3060\n",
            "Model No. of Parameters: 11173962\n",
            "ResNet(\n",
            "  (conv1): Conv2d(3, 64, kernel_size=(3, 3), stride=(1, 1), padding=(1, 1), bias=False)\n",
            "  (bn1): BatchNorm2d(64, eps=1e-05, momentum=0.1, affine=True, track_running_stats=True)\n",
            "  (layer1): Sequential(\n",
            "    (0): BasicBlock(\n",
            "      (conv1): Conv2d(64, 64, kernel_size=(3, 3), stride=(1, 1), padding=(1, 1), bias=False)\n",
            "      (bn1): BatchNorm2d(64, eps=1e-05, momentum=0.1, affine=True, track_running_stats=True)\n",
            "      (conv2): Conv2d(64, 64, kernel_size=(3, 3), stride=(1, 1), padding=(1, 1), bias=False)\n",
            "      (bn2): BatchNorm2d(64, eps=1e-05, momentum=0.1, affine=True, track_running_stats=True)\n",
            "      (shortcut): Sequential()\n",
            "    )\n",
            "    (1): BasicBlock(\n",
            "      (conv1): Conv2d(64, 64, kernel_size=(3, 3), stride=(1, 1), padding=(1, 1), bias=False)\n",
            "      (bn1): BatchNorm2d(64, eps=1e-05, momentum=0.1, affine=True, track_running_stats=True)\n",
            "      (conv2): Conv2d(64, 64, kernel_size=(3, 3), stride=(1, 1), padding=(1, 1), bias=False)\n",
            "      (bn2): BatchNorm2d(64, eps=1e-05, momentum=0.1, affine=True, track_running_stats=True)\n",
            "      (shortcut): Sequential()\n",
            "    )\n",
            "  )\n",
            "  (layer2): Sequential(\n",
            "    (0): BasicBlock(\n",
            "      (conv1): Conv2d(64, 128, kernel_size=(3, 3), stride=(2, 2), padding=(1, 1), bias=False)\n",
            "      (bn1): BatchNorm2d(128, eps=1e-05, momentum=0.1, affine=True, track_running_stats=True)\n",
            "      (conv2): Conv2d(128, 128, kernel_size=(3, 3), stride=(1, 1), padding=(1, 1), bias=False)\n",
            "      (bn2): BatchNorm2d(128, eps=1e-05, momentum=0.1, affine=True, track_running_stats=True)\n",
            "      (shortcut): Sequential(\n",
            "        (0): Conv2d(64, 128, kernel_size=(1, 1), stride=(2, 2), bias=False)\n",
            "        (1): BatchNorm2d(128, eps=1e-05, momentum=0.1, affine=True, track_running_stats=True)\n",
            "      )\n",
            "    )\n",
            "    (1): BasicBlock(\n",
            "      (conv1): Conv2d(128, 128, kernel_size=(3, 3), stride=(1, 1), padding=(1, 1), bias=False)\n",
            "      (bn1): BatchNorm2d(128, eps=1e-05, momentum=0.1, affine=True, track_running_stats=True)\n",
            "      (conv2): Conv2d(128, 128, kernel_size=(3, 3), stride=(1, 1), padding=(1, 1), bias=False)\n",
            "      (bn2): BatchNorm2d(128, eps=1e-05, momentum=0.1, affine=True, track_running_stats=True)\n",
            "      (shortcut): Sequential()\n",
            "    )\n",
            "  )\n",
            "  (layer3): Sequential(\n",
            "    (0): BasicBlock(\n",
            "      (conv1): Conv2d(128, 256, kernel_size=(3, 3), stride=(2, 2), padding=(1, 1), bias=False)\n",
            "      (bn1): BatchNorm2d(256, eps=1e-05, momentum=0.1, affine=True, track_running_stats=True)\n",
            "      (conv2): Conv2d(256, 256, kernel_size=(3, 3), stride=(1, 1), padding=(1, 1), bias=False)\n",
            "      (bn2): BatchNorm2d(256, eps=1e-05, momentum=0.1, affine=True, track_running_stats=True)\n",
            "      (shortcut): Sequential(\n",
            "        (0): Conv2d(128, 256, kernel_size=(1, 1), stride=(2, 2), bias=False)\n",
            "        (1): BatchNorm2d(256, eps=1e-05, momentum=0.1, affine=True, track_running_stats=True)\n",
            "      )\n",
            "    )\n",
            "    (1): BasicBlock(\n",
            "      (conv1): Conv2d(256, 256, kernel_size=(3, 3), stride=(1, 1), padding=(1, 1), bias=False)\n",
            "      (bn1): BatchNorm2d(256, eps=1e-05, momentum=0.1, affine=True, track_running_stats=True)\n",
            "      (conv2): Conv2d(256, 256, kernel_size=(3, 3), stride=(1, 1), padding=(1, 1), bias=False)\n",
            "      (bn2): BatchNorm2d(256, eps=1e-05, momentum=0.1, affine=True, track_running_stats=True)\n",
            "      (shortcut): Sequential()\n",
            "    )\n",
            "  )\n",
            "  (layer4): Sequential(\n",
            "    (0): BasicBlock(\n",
            "      (conv1): Conv2d(256, 512, kernel_size=(3, 3), stride=(2, 2), padding=(1, 1), bias=False)\n",
            "      (bn1): BatchNorm2d(512, eps=1e-05, momentum=0.1, affine=True, track_running_stats=True)\n",
            "      (conv2): Conv2d(512, 512, kernel_size=(3, 3), stride=(1, 1), padding=(1, 1), bias=False)\n",
            "      (bn2): BatchNorm2d(512, eps=1e-05, momentum=0.1, affine=True, track_running_stats=True)\n",
            "      (shortcut): Sequential(\n",
            "        (0): Conv2d(256, 512, kernel_size=(1, 1), stride=(2, 2), bias=False)\n",
            "        (1): BatchNorm2d(512, eps=1e-05, momentum=0.1, affine=True, track_running_stats=True)\n",
            "      )\n",
            "    )\n",
            "    (1): BasicBlock(\n",
            "      (conv1): Conv2d(512, 512, kernel_size=(3, 3), stride=(1, 1), padding=(1, 1), bias=False)\n",
            "      (bn1): BatchNorm2d(512, eps=1e-05, momentum=0.1, affine=True, track_running_stats=True)\n",
            "      (conv2): Conv2d(512, 512, kernel_size=(3, 3), stride=(1, 1), padding=(1, 1), bias=False)\n",
            "      (bn2): BatchNorm2d(512, eps=1e-05, momentum=0.1, affine=True, track_running_stats=True)\n",
            "      (shortcut): Sequential()\n",
            "    )\n",
            "  )\n",
            "  (linear): Linear(in_features=512, out_features=10, bias=True)\n",
            ")\n"
          ]
        }
      ],
      "source": [
        "model = ResNet18()\n",
        "model = model.to(device)\n",
        "\n",
        "if device.type == 'cuda':\n",
        "    print(torch.cuda.get_device_name(0))\n",
        "\n",
        "#model info\n",
        "print(\"Model No. of Parameters:\", sum([param.nelement() for param in model.parameters()]))\n",
        "print(model)"
      ]
    },
    {
      "cell_type": "markdown",
      "metadata": {
        "id": "0voZA3E6xB2V"
      },
      "source": [
        "Define the optimization parameters, losses etc. We will use a piece-wise linear learning rate schedule to adjust the learning rate right up to the pre-defined number of epochs for quickest training."
      ]
    },
    {
      "cell_type": "code",
      "execution_count": 8,
      "metadata": {
        "id": "2jYyhabUw2wi"
      },
      "outputs": [],
      "source": [
        "criterion = nn.CrossEntropyLoss()\n",
        "optimizer = torch.optim.SGD(model.parameters(), lr=learning_rate, momentum=0.9, weight_decay=5e-4)\n",
        "#Piecewise Linear Schedule\n",
        "total_step = len(train_loader)\n",
        "sched_linear_1 = torch.optim.lr_scheduler.CyclicLR(optimizer, base_lr=0.005, max_lr=learning_rate, step_size_up=15, step_size_down=15, mode=\"triangular\")\n",
        "sched_linear_3 = torch.optim.lr_scheduler.LinearLR(optimizer, start_factor=0.005/learning_rate, end_factor=0.005/5)\n",
        "scheduler = torch.optim.lr_scheduler.SequentialLR(optimizer, schedulers=[sched_linear_1, sched_linear_3], milestones=[30])"
      ]
    },
    {
      "cell_type": "markdown",
      "metadata": {
        "id": "EbKIM-x1xZZ6"
      },
      "source": [
        "Train the model with a simple training loop and report loss progress periodically."
      ]
    },
    {
      "cell_type": "code",
      "execution_count": 9,
      "metadata": {
        "colab": {
          "base_uri": "https://localhost:8080/"
        },
        "id": "3YoDJJZjxV6B",
        "outputId": "c9f23844-6ce6-4dfb-d88e-5379ae771e06"
      },
      "outputs": [
        {
          "name": "stdout",
          "output_type": "stream",
          "text": [
            "> Training\n",
            "Epoch [1/35], Step [100/391] Loss: 1.53906\n",
            "Epoch [1/35], Step [200/391] Loss: 1.36386\n",
            "Epoch [1/35], Step [300/391] Loss: 1.22929\n",
            "Epoch [2/35], Step [100/391] Loss: 0.98265\n",
            "Epoch [2/35], Step [200/391] Loss: 0.89796\n",
            "Epoch [2/35], Step [300/391] Loss: 0.69581\n",
            "Epoch [3/35], Step [100/391] Loss: 0.93793\n",
            "Epoch [3/35], Step [200/391] Loss: 0.73425\n",
            "Epoch [3/35], Step [300/391] Loss: 0.74636\n",
            "Epoch [4/35], Step [100/391] Loss: 0.73318\n",
            "Epoch [4/35], Step [200/391] Loss: 0.73727\n",
            "Epoch [4/35], Step [300/391] Loss: 0.64547\n",
            "Epoch [5/35], Step [100/391] Loss: 0.75094\n",
            "Epoch [5/35], Step [200/391] Loss: 0.71666\n",
            "Epoch [5/35], Step [300/391] Loss: 0.47782\n",
            "Epoch [6/35], Step [100/391] Loss: 0.77771\n",
            "Epoch [6/35], Step [200/391] Loss: 0.43917\n",
            "Epoch [6/35], Step [300/391] Loss: 0.27002\n",
            "Epoch [7/35], Step [100/391] Loss: 0.48043\n",
            "Epoch [7/35], Step [200/391] Loss: 0.50538\n",
            "Epoch [7/35], Step [300/391] Loss: 0.48963\n",
            "Epoch [8/35], Step [100/391] Loss: 0.36810\n",
            "Epoch [8/35], Step [200/391] Loss: 0.56748\n",
            "Epoch [8/35], Step [300/391] Loss: 0.52377\n",
            "Epoch [9/35], Step [100/391] Loss: 0.39218\n",
            "Epoch [9/35], Step [200/391] Loss: 0.51674\n",
            "Epoch [9/35], Step [300/391] Loss: 0.33682\n",
            "Epoch [10/35], Step [100/391] Loss: 0.45832\n",
            "Epoch [10/35], Step [200/391] Loss: 0.40964\n",
            "Epoch [10/35], Step [300/391] Loss: 0.43484\n",
            "Epoch [11/35], Step [100/391] Loss: 0.40512\n",
            "Epoch [11/35], Step [200/391] Loss: 0.34348\n",
            "Epoch [11/35], Step [300/391] Loss: 0.36264\n",
            "Epoch [12/35], Step [100/391] Loss: 0.41161\n",
            "Epoch [12/35], Step [200/391] Loss: 0.32878\n",
            "Epoch [12/35], Step [300/391] Loss: 0.29177\n",
            "Epoch [13/35], Step [100/391] Loss: 0.33474\n",
            "Epoch [13/35], Step [200/391] Loss: 0.19168\n",
            "Epoch [13/35], Step [300/391] Loss: 0.37747\n",
            "Epoch [14/35], Step [100/391] Loss: 0.31137\n",
            "Epoch [14/35], Step [200/391] Loss: 0.33571\n",
            "Epoch [14/35], Step [300/391] Loss: 0.39806\n",
            "Epoch [15/35], Step [100/391] Loss: 0.41387\n",
            "Epoch [15/35], Step [200/391] Loss: 0.25007\n",
            "Epoch [15/35], Step [300/391] Loss: 0.36214\n",
            "Epoch [16/35], Step [100/391] Loss: 0.34610\n",
            "Epoch [16/35], Step [200/391] Loss: 0.41172\n",
            "Epoch [16/35], Step [300/391] Loss: 0.23328\n",
            "Epoch [17/35], Step [100/391] Loss: 0.33489\n",
            "Epoch [17/35], Step [200/391] Loss: 0.42919\n",
            "Epoch [17/35], Step [300/391] Loss: 0.30443\n",
            "Epoch [18/35], Step [100/391] Loss: 0.21979\n",
            "Epoch [18/35], Step [200/391] Loss: 0.33932\n",
            "Epoch [18/35], Step [300/391] Loss: 0.34157\n",
            "Epoch [19/35], Step [100/391] Loss: 0.23999\n",
            "Epoch [19/35], Step [200/391] Loss: 0.26772\n",
            "Epoch [19/35], Step [300/391] Loss: 0.27556\n",
            "Epoch [20/35], Step [100/391] Loss: 0.24135\n",
            "Epoch [20/35], Step [200/391] Loss: 0.18719\n",
            "Epoch [20/35], Step [300/391] Loss: 0.16209\n",
            "Epoch [21/35], Step [100/391] Loss: 0.22997\n",
            "Epoch [21/35], Step [200/391] Loss: 0.27699\n",
            "Epoch [21/35], Step [300/391] Loss: 0.35572\n",
            "Epoch [22/35], Step [100/391] Loss: 0.23137\n",
            "Epoch [22/35], Step [200/391] Loss: 0.13569\n",
            "Epoch [22/35], Step [300/391] Loss: 0.21942\n",
            "Epoch [23/35], Step [100/391] Loss: 0.18592\n",
            "Epoch [23/35], Step [200/391] Loss: 0.33310\n",
            "Epoch [23/35], Step [300/391] Loss: 0.20323\n",
            "Epoch [24/35], Step [100/391] Loss: 0.17871\n",
            "Epoch [24/35], Step [200/391] Loss: 0.21988\n",
            "Epoch [24/35], Step [300/391] Loss: 0.25826\n",
            "Epoch [25/35], Step [100/391] Loss: 0.11855\n",
            "Epoch [25/35], Step [200/391] Loss: 0.20212\n",
            "Epoch [25/35], Step [300/391] Loss: 0.20072\n",
            "Epoch [26/35], Step [100/391] Loss: 0.19449\n",
            "Epoch [26/35], Step [200/391] Loss: 0.12963\n",
            "Epoch [26/35], Step [300/391] Loss: 0.23254\n",
            "Epoch [27/35], Step [100/391] Loss: 0.17670\n",
            "Epoch [27/35], Step [200/391] Loss: 0.14431\n",
            "Epoch [27/35], Step [300/391] Loss: 0.26647\n",
            "Epoch [28/35], Step [100/391] Loss: 0.16178\n",
            "Epoch [28/35], Step [200/391] Loss: 0.09721\n",
            "Epoch [28/35], Step [300/391] Loss: 0.07850\n",
            "Epoch [29/35], Step [100/391] Loss: 0.09461\n",
            "Epoch [29/35], Step [200/391] Loss: 0.06928\n",
            "Epoch [29/35], Step [300/391] Loss: 0.12535\n",
            "Epoch [30/35], Step [100/391] Loss: 0.03450\n",
            "Epoch [30/35], Step [200/391] Loss: 0.02034\n",
            "Epoch [30/35], Step [300/391] Loss: 0.03585\n"
          ]
        },
        {
          "name": "stderr",
          "output_type": "stream",
          "text": [
            "C:\\Users\\nbari\\AppData\\Local\\Packages\\PythonSoftwareFoundation.Python.3.11_qbz5n2kfra8p0\\LocalCache\\local-packages\\Python311\\site-packages\\torch\\optim\\lr_scheduler.py:240: UserWarning: The epoch parameter in `scheduler.step()` was not necessary and is being deprecated where possible. Please use `scheduler.step()` to step the scheduler. During the deprecation, if epoch is different from None, the closed form is used instead of the new chainable form, where available. Please open an issue if you are unable to replicate your use case: https://github.com/pytorch/pytorch/issues/new/choose.\n",
            "  warnings.warn(EPOCH_DEPRECATION_WARNING, UserWarning)\n"
          ]
        },
        {
          "name": "stdout",
          "output_type": "stream",
          "text": [
            "Epoch [31/35], Step [100/391] Loss: 0.04346\n",
            "Epoch [31/35], Step [200/391] Loss: 0.07276\n",
            "Epoch [31/35], Step [300/391] Loss: 0.03056\n",
            "Epoch [32/35], Step [100/391] Loss: 0.10432\n",
            "Epoch [32/35], Step [200/391] Loss: 0.04446\n",
            "Epoch [32/35], Step [300/391] Loss: 0.02504\n",
            "Epoch [33/35], Step [100/391] Loss: 0.02242\n",
            "Epoch [33/35], Step [200/391] Loss: 0.03409\n",
            "Epoch [33/35], Step [300/391] Loss: 0.02417\n",
            "Epoch [34/35], Step [100/391] Loss: 0.03497\n",
            "Epoch [34/35], Step [200/391] Loss: 0.03956\n",
            "Epoch [34/35], Step [300/391] Loss: 0.02697\n",
            "Epoch [35/35], Step [100/391] Loss: 0.04001\n",
            "Epoch [35/35], Step [200/391] Loss: 0.02606\n",
            "Epoch [35/35], Step [300/391] Loss: 0.03528\n",
            "Training took 974.84 secs or 16.25 mins in total\n"
          ]
        }
      ],
      "source": [
        "# Train the model\n",
        "model.train()\n",
        "print(\"> Training\")\n",
        "start = time.time() #time generation\n",
        "for epoch in range(num_epochs):\n",
        "\n",
        "    for i, (images, labels) in enumerate(train_loader):\n",
        "        images = images.to(device)\n",
        "        labels = labels.to(device)\n",
        "\n",
        "        # Forward pass\n",
        "        outputs = model(images)\n",
        "        loss = criterion(outputs, labels)\n",
        "\n",
        "        # Backward and optimize\n",
        "        optimizer.zero_grad()\n",
        "        loss.backward()\n",
        "        optimizer.step()\n",
        "\n",
        "        if (i+1) % 100 == 0:\n",
        "            print (\"Epoch [{}/{}], Step [{}/{}] Loss: {:.5f}\"\n",
        "                    .format(epoch+1, num_epochs, i+1, total_step, loss.item()))\n",
        "\n",
        "    scheduler.step()\n",
        "end = time.time()\n",
        "elapsed = end - start\n",
        "print(f\"Training took {elapsed:.2f} secs or {elapsed/60:.2f} mins in total\")"
      ]
    },
    {
      "cell_type": "markdown",
      "metadata": {
        "id": "wU0UciSTxhD8"
      },
      "source": [
        "Test the model through model inference and report the total testing accuracy."
      ]
    },
    {
      "cell_type": "code",
      "execution_count": 10,
      "metadata": {
        "colab": {
          "base_uri": "https://localhost:8080/"
        },
        "id": "wofCvKLOxpHT",
        "outputId": "2c7841ff-1923-4fe9-fb5d-df005fb1b328"
      },
      "outputs": [
        {
          "name": "stdout",
          "output_type": "stream",
          "text": [
            "> Testing\n",
            "Test Accuracy: 93.61 %\n",
            "Testing took 3.02 secs or 0.05 mins in total\n"
          ]
        }
      ],
      "source": [
        "# Test the model\n",
        "print(\"> Testing\")\n",
        "start = time.time() #time generation\n",
        "model.eval()\n",
        "with torch.no_grad():\n",
        "    correct = 0\n",
        "    total = 0\n",
        "    for images, labels in test_loader:\n",
        "        images = images.to(device)\n",
        "        labels = labels.to(device)\n",
        "        outputs = model(images)\n",
        "        _, predicted = torch.max(outputs.data, 1)\n",
        "        total += labels.size(0)\n",
        "        correct += (predicted == labels).sum().item()\n",
        "\n",
        "    print('Test Accuracy: {} %'.format(100 * correct / total))\n",
        "end = time.time()\n",
        "elapsed = end - start\n",
        "print(f\"Testing took {elapsed:.2f} secs or {elapsed/60:.2f} mins in total\")"
      ]
    }
  ],
  "metadata": {
    "accelerator": "GPU",
    "colab": {
      "provenance": []
    },
    "kernelspec": {
      "display_name": "Python 3",
      "language": "python",
      "name": "python3"
    },
    "language_info": {
      "codemirror_mode": {
        "name": "ipython",
        "version": 3
      },
      "file_extension": ".py",
      "mimetype": "text/x-python",
      "name": "python",
      "nbconvert_exporter": "python",
      "pygments_lexer": "ipython3",
      "version": "3.11.9"
    }
  },
  "nbformat": 4,
  "nbformat_minor": 0
}
