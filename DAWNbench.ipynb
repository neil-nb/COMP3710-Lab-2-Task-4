{
  "cells": [
    {
      "cell_type": "markdown",
      "metadata": {
        "id": "BnZGpiuOuOfB"
      },
      "source": [
        "# DAWNBench ResNet with PyTorch\n",
        "A DAWN Bench solution for CIFAR10 using ResNet18. We use the PyTorch library and vision tools to train a classifier for CIFAR10 in around 6 mins with an accuracy of 94% on the test set."
      ]
    },
    {
      "cell_type": "code",
      "execution_count": 1,
      "metadata": {
        "id": "-m5TnLBHuJkz"
      },
      "outputs": [],
      "source": [
        "import torch\n",
        "import torch.nn as nn\n",
        "import torch.nn.functional as F\n",
        "import torchvision\n",
        "import torchvision.transforms as transforms\n",
        "import time"
      ]
    },
    {
      "cell_type": "markdown",
      "metadata": {
        "id": "6FDR7mNTuzsM"
      },
      "source": [
        "We ensure we are using the GPU and setup parameters"
      ]
    },
    {
      "cell_type": "code",
      "execution_count": 2,
      "metadata": {
        "id": "0JvlLEYUurJv"
      },
      "outputs": [
        {
          "name": "stdout",
          "output_type": "stream",
          "text": [
            "Warning CUDA not Found. Using CPU\n"
          ]
        }
      ],
      "source": [
        "# Device configuration\n",
        "device = torch.device('cuda' if torch.cuda.is_available() else 'cpu')\n",
        "if not torch.cuda.is_available():\n",
        "    print(\"Warning CUDA not Found. Using CPU\")\n",
        "\n",
        "# Hyper-parameters\n",
        "num_epochs = 35\n",
        "learning_rate = 0.1"
      ]
    },
    {
      "cell_type": "markdown",
      "metadata": {
        "id": "41yPoO9IvApW"
      },
      "source": [
        "Setup all the data regularisation through weak augmentation of images. Without this, the models will always overfit and give low (~80%) accuracy on the test set. Note the different regularisations pipelines for the training and test sets, though the initial pre-processing is the same."
      ]
    },
    {
      "cell_type": "code",
      "execution_count": 3,
      "metadata": {
        "id": "x58T7Bzgu6KO"
      },
      "outputs": [],
      "source": [
        "transform_train = transforms.Compose([\n",
        "    transforms.ToTensor(),\n",
        "    transforms.Normalize((0.4914, 0.4822, 0.4465), (0.2023, 0.1994, 0.2010)),\n",
        "    transforms.RandomHorizontalFlip(),\n",
        "    transforms.RandomCrop(32, padding=4, padding_mode='reflect'),\n",
        "])\n",
        "\n",
        "transform_test = transforms.Compose([\n",
        "    transforms.ToTensor(),\n",
        "    transforms.Normalize((0.4914, 0.4822, 0.4465), (0.2023, 0.1994, 0.2010)),\n",
        "])"
      ]
    },
    {
      "cell_type": "markdown",
      "metadata": {
        "id": "cNA0gcmrvhAz"
      },
      "source": [
        "Load the standard dataset using PyTorch data pipelines."
      ]
    },
    {
      "cell_type": "code",
      "execution_count": 4,
      "metadata": {
        "colab": {
          "base_uri": "https://localhost:8080/"
        },
        "id": "Wxtn4yL2vdvm",
        "outputId": "15ee578b-505b-4f0a-8706-6dac0eaa5200"
      },
      "outputs": [
        {
          "name": "stderr",
          "output_type": "stream",
          "text": [
            "100%|██████████| 170M/170M [01:16<00:00, 2.23MB/s] \n"
          ]
        }
      ],
      "source": [
        "trainset = torchvision.datasets.CIFAR10(\n",
        "    root='cifar10', train=True, download=True, transform=transform_train)\n",
        "train_loader = torch.utils.data.DataLoader(trainset, batch_size=128, shuffle=True) #num_workers=6\n",
        "\n",
        "testset = torchvision.datasets.CIFAR10(\n",
        "    root='cifar10', train=False, download=True, transform=transform_test)\n",
        "test_loader = torch.utils.data.DataLoader(testset, batch_size=100, shuffle=False) #num_workers=6"
      ]
    },
    {
      "cell_type": "markdown",
      "metadata": {
        "id": "EljeQd4Vvwe_"
      },
      "source": [
        "Now setup the ResNet model from scratch. You could use the pre-built model from within PyTorch, but this is more instructive from our own version. Original version of the code can be found [here](https://github.com/kuangliu/pytorch-cifar). Start with the basic ResNet block."
      ]
    },
    {
      "cell_type": "code",
      "execution_count": 5,
      "metadata": {
        "id": "BvVVuoW7vp01"
      },
      "outputs": [],
      "source": [
        "class BasicBlock(nn.Module):\n",
        "    expansion = 1\n",
        "\n",
        "    def __init__(self, in_planes, planes, stride=1):\n",
        "        super(BasicBlock, self).__init__()\n",
        "        self.conv1 = nn.Conv2d(\n",
        "            in_planes, planes, kernel_size=3, stride=stride, padding=1, bias=False)\n",
        "        self.bn1 = nn.BatchNorm2d(planes)\n",
        "        self.conv2 = nn.Conv2d(planes, planes, kernel_size=3,\n",
        "                               stride=1, padding=1, bias=False)\n",
        "        self.bn2 = nn.BatchNorm2d(planes)\n",
        "\n",
        "        self.shortcut = nn.Sequential()\n",
        "        if stride != 1 or in_planes != self.expansion*planes:\n",
        "            self.shortcut = nn.Sequential(\n",
        "                nn.Conv2d(in_planes, self.expansion*planes,\n",
        "                          kernel_size=1, stride=stride, bias=False),\n",
        "                nn.BatchNorm2d(self.expansion*planes)\n",
        "            )\n",
        "\n",
        "    def forward(self, x):\n",
        "        out = F.relu(self.bn1(self.conv1(x)))\n",
        "        out = self.bn2(self.conv2(out))\n",
        "        out += self.shortcut(x)\n",
        "        out = F.relu(out)\n",
        "        return out"
      ]
    },
    {
      "cell_type": "markdown",
      "metadata": {
        "id": "qzcPdCH8wRKg"
      },
      "source": [
        "Then construct the general ResNet network that is capable of having its various parameters/depth defined to create different versions. Then define the actual ResNet18 that is needed for CIFAR10."
      ]
    },
    {
      "cell_type": "code",
      "execution_count": 6,
      "metadata": {
        "id": "UwU0VJqhwb8l"
      },
      "outputs": [],
      "source": [
        "class ResNet(nn.Module):\n",
        "    def __init__(self, block, num_blocks, num_classes=10):\n",
        "        super(ResNet, self).__init__()\n",
        "        self.in_planes = 64\n",
        "\n",
        "        self.conv1 = nn.Conv2d(3, 64, kernel_size=3,\n",
        "                               stride=1, padding=1, bias=False)\n",
        "        self.bn1 = nn.BatchNorm2d(64)\n",
        "        self.layer1 = self._make_layer(block, 64, num_blocks[0], stride=1)\n",
        "        self.layer2 = self._make_layer(block, 128, num_blocks[1], stride=2)\n",
        "        self.layer3 = self._make_layer(block, 256, num_blocks[2], stride=2)\n",
        "        self.layer4 = self._make_layer(block, 512, num_blocks[3], stride=2)\n",
        "        self.linear = nn.Linear(512*block.expansion, num_classes)\n",
        "\n",
        "    def _make_layer(self, block, planes, num_blocks, stride):\n",
        "        strides = [stride] + [1]*(num_blocks-1)\n",
        "        layers = []\n",
        "        for stride in strides:\n",
        "            layers.append(block(self.in_planes, planes, stride))\n",
        "            self.in_planes = planes * block.expansion\n",
        "        return nn.Sequential(*layers)\n",
        "\n",
        "    def forward(self, x):\n",
        "        out = F.relu(self.bn1(self.conv1(x)))\n",
        "        out = self.layer1(out)\n",
        "        out = self.layer2(out)\n",
        "        out = self.layer3(out)\n",
        "        out = self.layer4(out)\n",
        "        out = F.avg_pool2d(out, 4)\n",
        "        out = out.view(out.size(0), -1)\n",
        "        out = self.linear(out)\n",
        "        return out\n",
        "\n",
        "\n",
        "def ResNet18():\n",
        "    return ResNet(BasicBlock, [2, 2, 2, 2])"
      ]
    },
    {
      "cell_type": "markdown",
      "metadata": {
        "id": "MmHURjEVwvWX"
      },
      "source": [
        "Declare the actual model for use and move it to the GPU. We print the model info to check."
      ]
    },
    {
      "cell_type": "code",
      "execution_count": 7,
      "metadata": {
        "colab": {
          "base_uri": "https://localhost:8080/"
        },
        "id": "UcvwU_Wuwqji",
        "outputId": "79d11e2e-2abc-40fa-d694-6f8fca3dc0e1"
      },
      "outputs": [
        {
          "name": "stdout",
          "output_type": "stream",
          "text": [
            "Model No. of Parameters: 11173962\n",
            "ResNet(\n",
            "  (conv1): Conv2d(3, 64, kernel_size=(3, 3), stride=(1, 1), padding=(1, 1), bias=False)\n",
            "  (bn1): BatchNorm2d(64, eps=1e-05, momentum=0.1, affine=True, track_running_stats=True)\n",
            "  (layer1): Sequential(\n",
            "    (0): BasicBlock(\n",
            "      (conv1): Conv2d(64, 64, kernel_size=(3, 3), stride=(1, 1), padding=(1, 1), bias=False)\n",
            "      (bn1): BatchNorm2d(64, eps=1e-05, momentum=0.1, affine=True, track_running_stats=True)\n",
            "      (conv2): Conv2d(64, 64, kernel_size=(3, 3), stride=(1, 1), padding=(1, 1), bias=False)\n",
            "      (bn2): BatchNorm2d(64, eps=1e-05, momentum=0.1, affine=True, track_running_stats=True)\n",
            "      (shortcut): Sequential()\n",
            "    )\n",
            "    (1): BasicBlock(\n",
            "      (conv1): Conv2d(64, 64, kernel_size=(3, 3), stride=(1, 1), padding=(1, 1), bias=False)\n",
            "      (bn1): BatchNorm2d(64, eps=1e-05, momentum=0.1, affine=True, track_running_stats=True)\n",
            "      (conv2): Conv2d(64, 64, kernel_size=(3, 3), stride=(1, 1), padding=(1, 1), bias=False)\n",
            "      (bn2): BatchNorm2d(64, eps=1e-05, momentum=0.1, affine=True, track_running_stats=True)\n",
            "      (shortcut): Sequential()\n",
            "    )\n",
            "  )\n",
            "  (layer2): Sequential(\n",
            "    (0): BasicBlock(\n",
            "      (conv1): Conv2d(64, 128, kernel_size=(3, 3), stride=(2, 2), padding=(1, 1), bias=False)\n",
            "      (bn1): BatchNorm2d(128, eps=1e-05, momentum=0.1, affine=True, track_running_stats=True)\n",
            "      (conv2): Conv2d(128, 128, kernel_size=(3, 3), stride=(1, 1), padding=(1, 1), bias=False)\n",
            "      (bn2): BatchNorm2d(128, eps=1e-05, momentum=0.1, affine=True, track_running_stats=True)\n",
            "      (shortcut): Sequential(\n",
            "        (0): Conv2d(64, 128, kernel_size=(1, 1), stride=(2, 2), bias=False)\n",
            "        (1): BatchNorm2d(128, eps=1e-05, momentum=0.1, affine=True, track_running_stats=True)\n",
            "      )\n",
            "    )\n",
            "    (1): BasicBlock(\n",
            "      (conv1): Conv2d(128, 128, kernel_size=(3, 3), stride=(1, 1), padding=(1, 1), bias=False)\n",
            "      (bn1): BatchNorm2d(128, eps=1e-05, momentum=0.1, affine=True, track_running_stats=True)\n",
            "      (conv2): Conv2d(128, 128, kernel_size=(3, 3), stride=(1, 1), padding=(1, 1), bias=False)\n",
            "      (bn2): BatchNorm2d(128, eps=1e-05, momentum=0.1, affine=True, track_running_stats=True)\n",
            "      (shortcut): Sequential()\n",
            "    )\n",
            "  )\n",
            "  (layer3): Sequential(\n",
            "    (0): BasicBlock(\n",
            "      (conv1): Conv2d(128, 256, kernel_size=(3, 3), stride=(2, 2), padding=(1, 1), bias=False)\n",
            "      (bn1): BatchNorm2d(256, eps=1e-05, momentum=0.1, affine=True, track_running_stats=True)\n",
            "      (conv2): Conv2d(256, 256, kernel_size=(3, 3), stride=(1, 1), padding=(1, 1), bias=False)\n",
            "      (bn2): BatchNorm2d(256, eps=1e-05, momentum=0.1, affine=True, track_running_stats=True)\n",
            "      (shortcut): Sequential(\n",
            "        (0): Conv2d(128, 256, kernel_size=(1, 1), stride=(2, 2), bias=False)\n",
            "        (1): BatchNorm2d(256, eps=1e-05, momentum=0.1, affine=True, track_running_stats=True)\n",
            "      )\n",
            "    )\n",
            "    (1): BasicBlock(\n",
            "      (conv1): Conv2d(256, 256, kernel_size=(3, 3), stride=(1, 1), padding=(1, 1), bias=False)\n",
            "      (bn1): BatchNorm2d(256, eps=1e-05, momentum=0.1, affine=True, track_running_stats=True)\n",
            "      (conv2): Conv2d(256, 256, kernel_size=(3, 3), stride=(1, 1), padding=(1, 1), bias=False)\n",
            "      (bn2): BatchNorm2d(256, eps=1e-05, momentum=0.1, affine=True, track_running_stats=True)\n",
            "      (shortcut): Sequential()\n",
            "    )\n",
            "  )\n",
            "  (layer4): Sequential(\n",
            "    (0): BasicBlock(\n",
            "      (conv1): Conv2d(256, 512, kernel_size=(3, 3), stride=(2, 2), padding=(1, 1), bias=False)\n",
            "      (bn1): BatchNorm2d(512, eps=1e-05, momentum=0.1, affine=True, track_running_stats=True)\n",
            "      (conv2): Conv2d(512, 512, kernel_size=(3, 3), stride=(1, 1), padding=(1, 1), bias=False)\n",
            "      (bn2): BatchNorm2d(512, eps=1e-05, momentum=0.1, affine=True, track_running_stats=True)\n",
            "      (shortcut): Sequential(\n",
            "        (0): Conv2d(256, 512, kernel_size=(1, 1), stride=(2, 2), bias=False)\n",
            "        (1): BatchNorm2d(512, eps=1e-05, momentum=0.1, affine=True, track_running_stats=True)\n",
            "      )\n",
            "    )\n",
            "    (1): BasicBlock(\n",
            "      (conv1): Conv2d(512, 512, kernel_size=(3, 3), stride=(1, 1), padding=(1, 1), bias=False)\n",
            "      (bn1): BatchNorm2d(512, eps=1e-05, momentum=0.1, affine=True, track_running_stats=True)\n",
            "      (conv2): Conv2d(512, 512, kernel_size=(3, 3), stride=(1, 1), padding=(1, 1), bias=False)\n",
            "      (bn2): BatchNorm2d(512, eps=1e-05, momentum=0.1, affine=True, track_running_stats=True)\n",
            "      (shortcut): Sequential()\n",
            "    )\n",
            "  )\n",
            "  (linear): Linear(in_features=512, out_features=10, bias=True)\n",
            ")\n"
          ]
        }
      ],
      "source": [
        "model = ResNet18()\n",
        "model = model.to(device)\n",
        "\n",
        "if device.type == 'cuda':\n",
        "    print(torch.cuda.get_device_name(0))\n",
        "\n",
        "#model info\n",
        "print(\"Model No. of Parameters:\", sum([param.nelement() for param in model.parameters()]))\n",
        "print(model)"
      ]
    },
    {
      "cell_type": "markdown",
      "metadata": {
        "id": "0voZA3E6xB2V"
      },
      "source": [
        "Define the optimization parameters, losses etc. We will use a piece-wise linear learning rate schedule to adjust the learning rate right up to the pre-defined number of epochs for quickest training."
      ]
    },
    {
      "cell_type": "code",
      "execution_count": null,
      "metadata": {
        "id": "2jYyhabUw2wi"
      },
      "outputs": [
        {
          "ename": "TypeError",
          "evalue": "LinearLR.__init__() got an unexpected keyword argument 'verbose'",
          "output_type": "error",
          "traceback": [
            "\u001b[31m---------------------------------------------------------------------------\u001b[39m",
            "\u001b[31mTypeError\u001b[39m                                 Traceback (most recent call last)",
            "\u001b[36mCell\u001b[39m\u001b[36m \u001b[39m\u001b[32mIn[9]\u001b[39m\u001b[32m, line 6\u001b[39m\n\u001b[32m      4\u001b[39m total_step = \u001b[38;5;28mlen\u001b[39m(train_loader)\n\u001b[32m      5\u001b[39m sched_linear_1 = torch.optim.lr_scheduler.CyclicLR(optimizer, base_lr=\u001b[32m0.005\u001b[39m, max_lr=learning_rate, step_size_up=\u001b[32m15\u001b[39m, step_size_down=\u001b[32m15\u001b[39m, mode=\u001b[33m\"\u001b[39m\u001b[33mtriangular\u001b[39m\u001b[33m\"\u001b[39m)\n\u001b[32m----> \u001b[39m\u001b[32m6\u001b[39m sched_linear_3 = \u001b[43mtorch\u001b[49m\u001b[43m.\u001b[49m\u001b[43moptim\u001b[49m\u001b[43m.\u001b[49m\u001b[43mlr_scheduler\u001b[49m\u001b[43m.\u001b[49m\u001b[43mLinearLR\u001b[49m\u001b[43m(\u001b[49m\u001b[43moptimizer\u001b[49m\u001b[43m,\u001b[49m\u001b[43m \u001b[49m\u001b[43mstart_factor\u001b[49m\u001b[43m=\u001b[49m\u001b[32;43m0.005\u001b[39;49m\u001b[43m/\u001b[49m\u001b[43mlearning_rate\u001b[49m\u001b[43m,\u001b[49m\u001b[43m \u001b[49m\u001b[43mend_factor\u001b[49m\u001b[43m=\u001b[49m\u001b[32;43m0.005\u001b[39;49m\u001b[43m/\u001b[49m\u001b[32;43m5\u001b[39;49m\u001b[43m,\u001b[49m\u001b[43m \u001b[49m\u001b[43mverbose\u001b[49m\u001b[43m=\u001b[49m\u001b[38;5;28;43;01mFalse\u001b[39;49;00m\u001b[43m)\u001b[49m\n\u001b[32m      7\u001b[39m scheduler = torch.optim.lr_scheduler.SequentialLR(optimizer, schedulers=[sched_linear_1, sched_linear_3], milestones=[\u001b[32m30\u001b[39m])\n",
            "\u001b[31mTypeError\u001b[39m: LinearLR.__init__() got an unexpected keyword argument 'verbose'"
          ]
        }
      ],
      "source": [
        "criterion = nn.CrossEntropyLoss()\n",
        "optimizer = torch.optim.SGD(model.parameters(), lr=learning_rate, momentum=0.9, weight_decay=5e-4)\n",
        "#Piecewise Linear Schedule\n",
        "total_step = len(train_loader)\n",
        "sched_linear_1 = torch.optim.lr_scheduler.CyclicLR(optimizer, base_lr=0.005, max_lr=learning_rate, step_size_up=15, step_size_down=15, mode=\"triangular\")\n",
        "sched_linear_3 = torch.optim.lr_scheduler.LinearLR(optimizer, start_factor=0.005/learning_rate, end_factor=0.005/5)\n",
        "scheduler = torch.optim.lr_scheduler.SequentialLR(optimizer, schedulers=[sched_linear_1, sched_linear_3], milestones=[30])"
      ]
    },
    {
      "cell_type": "markdown",
      "metadata": {
        "id": "EbKIM-x1xZZ6"
      },
      "source": [
        "Train the model with a simple training loop and report loss progress periodically."
      ]
    },
    {
      "cell_type": "code",
      "execution_count": null,
      "metadata": {
        "colab": {
          "base_uri": "https://localhost:8080/"
        },
        "id": "3YoDJJZjxV6B",
        "outputId": "c9f23844-6ce6-4dfb-d88e-5379ae771e06"
      },
      "outputs": [
        {
          "name": "stdout",
          "output_type": "stream",
          "text": [
            "> Training\n",
            "Epoch [1/35], Step [100/391] Loss: 1.88376\n",
            "Epoch [1/35], Step [200/391] Loss: 1.77183\n",
            "Epoch [1/35], Step [300/391] Loss: 1.70245\n",
            "Epoch [2/35], Step [100/391] Loss: 1.51951\n",
            "Epoch [2/35], Step [200/391] Loss: 1.34386\n",
            "Epoch [2/35], Step [300/391] Loss: 0.99767\n",
            "Epoch [3/35], Step [100/391] Loss: 1.09128\n",
            "Epoch [3/35], Step [200/391] Loss: 0.95656\n",
            "Epoch [3/35], Step [300/391] Loss: 0.84427\n",
            "Epoch [4/35], Step [100/391] Loss: 0.70018\n",
            "Epoch [4/35], Step [200/391] Loss: 0.59718\n",
            "Epoch [4/35], Step [300/391] Loss: 0.57562\n",
            "Epoch [5/35], Step [100/391] Loss: 0.54450\n",
            "Epoch [5/35], Step [200/391] Loss: 0.58696\n",
            "Epoch [5/35], Step [300/391] Loss: 0.60926\n",
            "Epoch [6/35], Step [100/391] Loss: 0.46383\n",
            "Epoch [6/35], Step [200/391] Loss: 0.47299\n",
            "Epoch [6/35], Step [300/391] Loss: 0.58954\n",
            "Epoch [7/35], Step [100/391] Loss: 0.57953\n",
            "Epoch [7/35], Step [200/391] Loss: 0.57442\n",
            "Epoch [7/35], Step [300/391] Loss: 0.57496\n",
            "Epoch [8/35], Step [100/391] Loss: 0.32289\n",
            "Epoch [8/35], Step [200/391] Loss: 0.44576\n",
            "Epoch [8/35], Step [300/391] Loss: 0.41043\n",
            "Epoch [9/35], Step [100/391] Loss: 0.39153\n",
            "Epoch [9/35], Step [200/391] Loss: 0.45638\n",
            "Epoch [9/35], Step [300/391] Loss: 0.36740\n",
            "Epoch [10/35], Step [100/391] Loss: 0.26987\n",
            "Epoch [10/35], Step [200/391] Loss: 0.47403\n",
            "Epoch [10/35], Step [300/391] Loss: 0.51039\n",
            "Epoch [11/35], Step [100/391] Loss: 0.42784\n",
            "Epoch [11/35], Step [200/391] Loss: 0.45213\n",
            "Epoch [11/35], Step [300/391] Loss: 0.39199\n",
            "Epoch [12/35], Step [100/391] Loss: 0.37009\n",
            "Epoch [12/35], Step [200/391] Loss: 0.33606\n",
            "Epoch [12/35], Step [300/391] Loss: 0.44831\n",
            "Epoch [13/35], Step [100/391] Loss: 0.42498\n",
            "Epoch [13/35], Step [200/391] Loss: 0.34002\n",
            "Epoch [13/35], Step [300/391] Loss: 0.33364\n",
            "Epoch [14/35], Step [100/391] Loss: 0.40955\n",
            "Epoch [14/35], Step [200/391] Loss: 0.33399\n",
            "Epoch [14/35], Step [300/391] Loss: 0.27383\n",
            "Epoch [15/35], Step [100/391] Loss: 0.28098\n",
            "Epoch [15/35], Step [200/391] Loss: 0.31160\n",
            "Epoch [15/35], Step [300/391] Loss: 0.34034\n",
            "Epoch [16/35], Step [100/391] Loss: 0.29388\n",
            "Epoch [16/35], Step [200/391] Loss: 0.28736\n",
            "Epoch [16/35], Step [300/391] Loss: 0.34837\n",
            "Epoch [17/35], Step [100/391] Loss: 0.28878\n",
            "Epoch [17/35], Step [200/391] Loss: 0.28399\n",
            "Epoch [17/35], Step [300/391] Loss: 0.28819\n",
            "Epoch [18/35], Step [100/391] Loss: 0.20520\n",
            "Epoch [18/35], Step [200/391] Loss: 0.21529\n",
            "Epoch [18/35], Step [300/391] Loss: 0.26442\n",
            "Epoch [19/35], Step [100/391] Loss: 0.20204\n",
            "Epoch [19/35], Step [200/391] Loss: 0.31405\n",
            "Epoch [19/35], Step [300/391] Loss: 0.29773\n",
            "Epoch [20/35], Step [100/391] Loss: 0.24634\n",
            "Epoch [20/35], Step [200/391] Loss: 0.36543\n",
            "Epoch [20/35], Step [300/391] Loss: 0.25936\n",
            "Epoch [21/35], Step [100/391] Loss: 0.31084\n",
            "Epoch [21/35], Step [200/391] Loss: 0.17728\n",
            "Epoch [21/35], Step [300/391] Loss: 0.23102\n",
            "Epoch [22/35], Step [100/391] Loss: 0.29633\n",
            "Epoch [22/35], Step [200/391] Loss: 0.31179\n",
            "Epoch [22/35], Step [300/391] Loss: 0.25371\n",
            "Epoch [23/35], Step [100/391] Loss: 0.17031\n",
            "Epoch [23/35], Step [200/391] Loss: 0.31343\n",
            "Epoch [23/35], Step [300/391] Loss: 0.25436\n",
            "Epoch [24/35], Step [100/391] Loss: 0.13460\n",
            "Epoch [24/35], Step [200/391] Loss: 0.14932\n",
            "Epoch [24/35], Step [300/391] Loss: 0.25793\n",
            "Epoch [25/35], Step [100/391] Loss: 0.16786\n",
            "Epoch [25/35], Step [200/391] Loss: 0.19340\n",
            "Epoch [25/35], Step [300/391] Loss: 0.31050\n",
            "Epoch [26/35], Step [100/391] Loss: 0.12380\n",
            "Epoch [26/35], Step [200/391] Loss: 0.21898\n",
            "Epoch [26/35], Step [300/391] Loss: 0.16830\n",
            "Epoch [27/35], Step [100/391] Loss: 0.05473\n",
            "Epoch [27/35], Step [200/391] Loss: 0.16319\n",
            "Epoch [27/35], Step [300/391] Loss: 0.16901\n",
            "Epoch [28/35], Step [100/391] Loss: 0.15697\n",
            "Epoch [28/35], Step [200/391] Loss: 0.11462\n",
            "Epoch [28/35], Step [300/391] Loss: 0.17347\n",
            "Epoch [29/35], Step [100/391] Loss: 0.14262\n",
            "Epoch [29/35], Step [200/391] Loss: 0.09475\n",
            "Epoch [29/35], Step [300/391] Loss: 0.09086\n",
            "Epoch [30/35], Step [100/391] Loss: 0.04520\n",
            "Epoch [30/35], Step [200/391] Loss: 0.05930\n",
            "Epoch [30/35], Step [300/391] Loss: 0.07278\n"
          ]
        },
        {
          "name": "stderr",
          "output_type": "stream",
          "text": [
            "/usr/local/lib/python3.7/dist-packages/torch/optim/lr_scheduler.py:156: UserWarning: The epoch parameter in `scheduler.step()` was not necessary and is being deprecated where possible. Please use `scheduler.step()` to step the scheduler. During the deprecation, if epoch is different from None, the closed form is used instead of the new chainable form, where available. Please open an issue if you are unable to replicate your use case: https://github.com/pytorch/pytorch/issues/new/choose.\n",
            "  warnings.warn(EPOCH_DEPRECATION_WARNING, UserWarning)\n"
          ]
        },
        {
          "name": "stdout",
          "output_type": "stream",
          "text": [
            "Epoch [31/35], Step [100/391] Loss: 0.04588\n",
            "Epoch [31/35], Step [200/391] Loss: 0.01889\n",
            "Epoch [31/35], Step [300/391] Loss: 0.03945\n",
            "Epoch [32/35], Step [100/391] Loss: 0.03248\n",
            "Epoch [32/35], Step [200/391] Loss: 0.01975\n",
            "Epoch [32/35], Step [300/391] Loss: 0.07756\n",
            "Epoch [33/35], Step [100/391] Loss: 0.02008\n",
            "Epoch [33/35], Step [200/391] Loss: 0.04290\n",
            "Epoch [33/35], Step [300/391] Loss: 0.02206\n",
            "Epoch [34/35], Step [100/391] Loss: 0.04811\n",
            "Epoch [34/35], Step [200/391] Loss: 0.02198\n",
            "Epoch [34/35], Step [300/391] Loss: 0.06172\n",
            "Epoch [35/35], Step [100/391] Loss: 0.05103\n",
            "Epoch [35/35], Step [200/391] Loss: 0.02956\n",
            "Epoch [35/35], Step [300/391] Loss: 0.03899\n",
            "Training took 1534.5668334960938 secs or 25.576113891601562 mins in total\n"
          ]
        }
      ],
      "source": [
        "# Train the model\n",
        "model.train()\n",
        "print(\"> Training\")\n",
        "start = time.time() #time generation\n",
        "for epoch in range(num_epochs):\n",
        "\n",
        "    for i, (images, labels) in enumerate(train_loader):\n",
        "        images = images.to(device)\n",
        "        labels = labels.to(device)\n",
        "\n",
        "        # Forward pass\n",
        "        outputs = model(images)\n",
        "        loss = criterion(outputs, labels)\n",
        "\n",
        "        # Backward and optimize\n",
        "        optimizer.zero_grad()\n",
        "        loss.backward()\n",
        "        optimizer.step()\n",
        "\n",
        "        if (i+1) % 100 == 0:\n",
        "            print (\"Epoch [{}/{}], Step [{}/{}] Loss: {:.5f}\"\n",
        "                    .format(epoch+1, num_epochs, i+1, total_step, loss.item()))\n",
        "\n",
        "    scheduler.step()\n",
        "end = time.time()\n",
        "elapsed = end - start\n",
        "print(f\"Training took {elapsed:.2f} secs or {elapsed/60:.2f} mins in total\")"
      ]
    },
    {
      "cell_type": "markdown",
      "metadata": {
        "id": "wU0UciSTxhD8"
      },
      "source": [
        "Test the model through model inference and report the total testing accuracy."
      ]
    },
    {
      "cell_type": "code",
      "execution_count": null,
      "metadata": {
        "colab": {
          "base_uri": "https://localhost:8080/"
        },
        "id": "wofCvKLOxpHT",
        "outputId": "2c7841ff-1923-4fe9-fb5d-df005fb1b328"
      },
      "outputs": [
        {
          "name": "stdout",
          "output_type": "stream",
          "text": [
            "> Testing\n",
            "Test Accuracy: 93.82 %\n",
            "Training took 4.410189867019653 secs or 0.07350316445032755 mins in total\n"
          ]
        }
      ],
      "source": [
        "# Test the model\n",
        "print(\"> Testing\")\n",
        "start = time.time() #time generation\n",
        "model.eval()\n",
        "with torch.no_grad():\n",
        "    correct = 0\n",
        "    total = 0\n",
        "    for images, labels in test_loader:\n",
        "        images = images.to(device)\n",
        "        labels = labels.to(device)\n",
        "        outputs = model(images)\n",
        "        _, predicted = torch.max(outputs.data, 1)\n",
        "        total += labels.size(0)\n",
        "        correct += (predicted == labels).sum().item()\n",
        "\n",
        "    print('Test Accuracy: {} %'.format(100 * correct / total))\n",
        "end = time.time()\n",
        "elapsed = end - start\n",
        "print(\"Training took \" + str(elapsed) + \" secs or \" + str(elapsed/60) + \" mins in total\")"
      ]
    },
    {
      "cell_type": "code",
      "execution_count": null,
      "metadata": {
        "id": "bp5ogBPm3iJA"
      },
      "outputs": [],
      "source": []
    }
  ],
  "metadata": {
    "accelerator": "GPU",
    "colab": {
      "provenance": []
    },
    "kernelspec": {
      "display_name": ".venv",
      "language": "python",
      "name": "python3"
    },
    "language_info": {
      "codemirror_mode": {
        "name": "ipython",
        "version": 3
      },
      "file_extension": ".py",
      "mimetype": "text/x-python",
      "name": "python",
      "nbconvert_exporter": "python",
      "pygments_lexer": "ipython3",
      "version": "3.11.9"
    }
  },
  "nbformat": 4,
  "nbformat_minor": 0
}
